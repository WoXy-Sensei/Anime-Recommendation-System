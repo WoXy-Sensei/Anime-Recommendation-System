{
 "cells": [
  {
   "cell_type": "code",
   "execution_count": null,
   "metadata": {},
   "outputs": [],
   "source": [
    "from sklearn.feature_extraction.text import CountVectorizer\n",
    "from sklearn.metrics.pairwise import cosine_similarity\n",
    "from functions.textprocess import process \n",
    "import pandas as pd"
   ]
  },
  {
   "cell_type": "code",
   "execution_count": null,
   "metadata": {},
   "outputs": [],
   "source": [
    "\n",
    "df = pd.read_csv(\"data/anime_with_synopsis.csv\")\n",
    "df.dropna(inplace=True,subset=['sypnopsis'])\n"
   ]
  },
  {
   "cell_type": "code",
   "execution_count": null,
   "metadata": {},
   "outputs": [],
   "source": [
    "df['tags'] = df['sypnopsis']+df['Genres']\n",
    "df['tags'] = df['tags'].apply(process)\n",
    "df.head()"
   ]
  },
  {
   "cell_type": "code",
   "execution_count": null,
   "metadata": {},
   "outputs": [],
   "source": [
    "df.drop(columns=['sypnopsis','Genres'])"
   ]
  },
  {
   "cell_type": "code",
   "execution_count": 116,
   "metadata": {},
   "outputs": [],
   "source": [
    "\n",
    "cv=CountVectorizer(max_features=10000, stop_words='english')\n",
    "vector=cv.fit_transform(df['tags'].values.astype('U')).toarray()"
   ]
  },
  {
   "cell_type": "code",
   "execution_count": null,
   "metadata": {},
   "outputs": [],
   "source": [
    "similarity=cosine_similarity(vector)"
   ]
  },
  {
   "cell_type": "code",
   "execution_count": 113,
   "metadata": {},
   "outputs": [],
   "source": [
    "def recommand(anime,count):\n",
    "    id = df[df['Name']==anime].index[0]\n",
    "    distance = sorted(list(enumerate(similarity[id])), reverse=True, key=lambda vector:vector[1])\n",
    "    for i in distance[1:count]:\n",
    "        print(df.iloc[i[0]].Name)"
   ]
  },
  {
   "cell_type": "code",
   "execution_count": 114,
   "metadata": {},
   "outputs": [
    {
     "name": "stdout",
     "output_type": "stream",
     "text": [
      "Sword Art Online Movie: Ordinal Scale\n",
      "Sword Art Online: Progressive Movie - Hoshi Naki Yoru no Aria\n",
      "Kyuukyoku Shinka shita Full Dive RPG ga Genjitsu yori mo Kusoge Dattara\n",
      ".hack//The Movie: Sekai no Mukou ni\n",
      "Sword Art Online II\n",
      "GUNbare! Game Tengoku: The Game Paradise 2\n",
      "Treasure Gaust\n",
      "Sword Art Online Alternative: Gun Gale Online\n",
      ".hack//Intermezzo\n"
     ]
    }
   ],
   "source": [
    "#PREDICT\n",
    "recommand(\"Sword Art Online\",10)"
   ]
  }
 ],
 "metadata": {
  "kernelspec": {
   "display_name": "Python 3",
   "language": "python",
   "name": "python3"
  },
  "language_info": {
   "codemirror_mode": {
    "name": "ipython",
    "version": 3
   },
   "file_extension": ".py",
   "mimetype": "text/x-python",
   "name": "python",
   "nbconvert_exporter": "python",
   "pygments_lexer": "ipython3",
   "version": "3.10.6"
  },
  "orig_nbformat": 4
 },
 "nbformat": 4,
 "nbformat_minor": 2
}
